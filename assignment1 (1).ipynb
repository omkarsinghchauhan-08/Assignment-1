{
 "cells": [
  {
   "cell_type": "code",
   "execution_count": 4,
   "id": "a836f451-cec9-4638-a2f9-b412df7717ec",
   "metadata": {},
   "outputs": [
    {
     "name": "stdout",
     "output_type": "stream",
     "text": [
      "10\n",
      "20\n",
      "30\n",
      "40\n",
      "50\n"
     ]
    }
   ],
   "source": [
    " # USE OF FOR LOOP - A FOR LOOP IS A CONTROL FLOW OF STATEMENT THAT EXECUTE CODE FOR PREDEFINED NUMBER OF ITERATIONS.\n",
    " # WHEN THE NUMBER OF ITERATION IS ALREADY KNOWN , THE FOR LOOP IS USED.\n",
    "l=[10,20,30,40,50]\n",
    "for i in l : \n",
    "        print(i)"
   ]
  },
  {
   "cell_type": "code",
   "execution_count": null,
   "id": "5f8a6128-f050-4f3c-adb9-97301eebf5ef",
   "metadata": {},
   "outputs": [],
   "source": [
    " # while loop - when the number of iteration is unknown, a while loop is used.the statement is repeated until the boolean value is false\n",
    "#  beacause the condition is tested atthe begining of while loop,it is also known as the pre test loop.\n",
    "i=1\n",
    "while i<10 :\n",
    "    print (i)\n",
    "    i +=1"
   ]
  },
  {
   "cell_type": "code",
   "execution_count": null,
   "id": "e97a3156-d486-4d21-8c44-c079fcfa8474",
   "metadata": {},
   "outputs": [],
   "source": [
    "#ques 2 sum of first 10 natural number \n",
    "n = 10\n",
    "sum = n*(n+1)/2 \n",
    "print(sum)\n",
    " \n",
    "\n",
    " "
   ]
  },
  {
   "cell_type": "code",
   "execution_count": null,
   "id": "dda10aba-0cda-4d55-bba3-bec9f8eb8cc1",
   "metadata": {},
   "outputs": [],
   "source": [
    "i=1\n",
    "prod=1\n",
    "while i<10:\n",
    "    prod=prod*i\n",
    "    print(\"product\",prod)\n",
    "    i+=1\n"
   ]
  },
  {
   "cell_type": "code",
   "execution_count": null,
   "id": "fa94fb3f-2241-4cfe-96d3-36451414575b",
   "metadata": {},
   "outputs": [],
   "source": [
    "units = int(input(\"Enter the number of units consumed: \"))\n",
    "if units <= 100:\n",
    "        bill = units * 4.5\n",
    "elif 100<units and units <= 200:\n",
    "        bill = units * 6\n",
    "elif 200<units and units <= 300:\n",
    "        bill = units * 10\n",
    "else:\n",
    "        bill = units * 20\n",
    "    \n",
    "    \n",
    "print(\"Your bill amount is:\", bill)"
   ]
  },
  {
   "cell_type": "code",
   "execution_count": 1,
   "id": "b836ecc1-359d-47be-9777-cf12f82489dd",
   "metadata": {},
   "outputs": [
    {
     "name": "stdout",
     "output_type": "stream",
     "text": [
      "[2, 4, 5, 6, 8, 10, 12, 14, 15, 16, 18, 20, 22, 24, 25, 26, 28, 30, 32, 34, 35, 36, 38, 40, 42, 44, 45, 46, 48, 50, 52, 54, 55, 56, 58, 60, 62, 64, 65, 66, 68, 70, 72, 74, 75, 76, 78, 80, 82, 84, 85, 86, 88, 90, 92, 94, 95, 96, 98, 100]\n"
     ]
    }
   ],
   "source": [
    "cubes = []\n",
    "\n",
    "for i in range(1, 101):\n",
    "    cube = i ** 3\n",
    "    if cube % 4 == 0 or cube % 5 == 0:\n",
    "        cubes.append(i)\n",
    "\n",
    "print(cubes)\n",
    "\n"
   ]
  },
  {
   "cell_type": "code",
   "execution_count": 2,
   "id": "4aa9e633-0ae0-4ce5-82b2-384ee94fb2ec",
   "metadata": {},
   "outputs": [
    {
     "name": "stdout",
     "output_type": "stream",
     "text": [
      "[2, 4, 5, 6, 8, 10, 12, 14, 15, 16, 18, 20, 22, 24, 25, 26, 28, 30, 32, 34, 35, 36, 38, 40, 42, 44, 45, 46, 48, 50, 52, 54, 55, 56, 58, 60, 62, 64, 65, 66, 68, 70, 72, 74, 75, 76, 78, 80, 82, 84, 85, 86, 88, 90, 92, 94, 95, 96, 98, 100]\n"
     ]
    }
   ],
   "source": [
    "cubes = []\n",
    "i = 1\n",
    "\n",
    "while i <= 100:\n",
    "    cube = i ** 3\n",
    "    if cube % 4 == 0 or cube % 5 == 0:\n",
    "        cubes.append(i)\n",
    "    i += 1\n",
    "\n",
    "print(cubes)\n"
   ]
  },
  {
   "cell_type": "code",
   "execution_count": 3,
   "id": "3b2dcf12-d529-4c2f-a1ad-cb4eb2f85895",
   "metadata": {},
   "outputs": [
    {
     "name": "stdout",
     "output_type": "stream",
     "text": [
      "The number of vowels in the string is: 12\n"
     ]
    }
   ],
   "source": [
    "string = \"I want to become a data scientist\"\n",
    "vowels = 'aeiouAEIOU'\n",
    "count = 0\n",
    "\n",
    "for char in string:\n",
    "    if char in vowels:\n",
    "        count += 1\n",
    "\n",
    "print(\"The number of vowels in the string is:\", count)\n"
   ]
  },
  {
   "cell_type": "code",
   "execution_count": null,
   "id": "d1cfb135-5a83-4d60-9cc8-72678b3e53d6",
   "metadata": {},
   "outputs": [],
   "source": []
  }
 ],
 "metadata": {
  "kernelspec": {
   "display_name": "Python 3 (ipykernel)",
   "language": "python",
   "name": "python3"
  },
  "language_info": {
   "codemirror_mode": {
    "name": "ipython",
    "version": 3
   },
   "file_extension": ".py",
   "mimetype": "text/x-python",
   "name": "python",
   "nbconvert_exporter": "python",
   "pygments_lexer": "ipython3",
   "version": "3.10.8"
  }
 },
 "nbformat": 4,
 "nbformat_minor": 5
}
